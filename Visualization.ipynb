{
 "cells": [
  {
   "cell_type": "code",
   "execution_count": 11,
   "source": [
    "%run Active_Inference.ipynb import MDP"
   ],
   "outputs": [],
   "metadata": {}
  },
  {
   "cell_type": "code",
   "execution_count": 12,
   "source": [
    "MDP = MDP.explore_exploit_model()"
   ],
   "outputs": [],
   "metadata": {}
  },
  {
   "cell_type": "code",
   "execution_count": 13,
   "source": [
    "MDP.message_passing_and_policy_selection()"
   ],
   "outputs": [],
   "metadata": {}
  },
  {
   "cell_type": "code",
   "execution_count": 14,
   "source": [
    "MDP.F"
   ],
   "outputs": [
    {
     "output_type": "execute_result",
     "data": {
      "text/plain": [
       "array([[ -1.03884284, -17.02072756, -29.08539647],\n",
       "       [ -1.03884284,  -1.73214272,   1.48097855],\n",
       "       [ -1.03884284,  -1.73214272,  -9.68206858],\n",
       "       [ -1.03884284, -17.03868537, -29.1035786 ],\n",
       "       [ -1.03884284, -17.03868537, -29.1035786 ]])"
      ]
     },
     "metadata": {},
     "execution_count": 14
    }
   ],
   "metadata": {}
  },
  {
   "cell_type": "code",
   "execution_count": null,
   "source": [],
   "outputs": [],
   "metadata": {}
  }
 ],
 "metadata": {
  "orig_nbformat": 4,
  "language_info": {
   "name": "python",
   "version": "3.7.11",
   "mimetype": "text/x-python",
   "codemirror_mode": {
    "name": "ipython",
    "version": 3
   },
   "pygments_lexer": "ipython3",
   "nbconvert_exporter": "python",
   "file_extension": ".py"
  },
  "kernelspec": {
   "name": "python3",
   "display_name": "Python 3.7.11 64-bit ('tf': conda)"
  },
  "interpreter": {
   "hash": "647b363b96b61335887d6dcfd84963b145589598b0b93027d57d6af73bddc64c"
  }
 },
 "nbformat": 4,
 "nbformat_minor": 2
}